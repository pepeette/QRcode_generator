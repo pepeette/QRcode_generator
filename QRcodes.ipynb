{
 "cells": [
  {
   "cell_type": "code",
   "execution_count": null,
   "id": "83f5014c-2a01-477e-ba21-ceed976558b7",
   "metadata": {},
   "outputs": [],
   "source": [
    "!pip install segno"
   ]
  },
  {
   "cell_type": "code",
   "execution_count": null,
   "id": "1165eed5-406b-4840-a9d8-a4e000fbf11d",
   "metadata": {},
   "outputs": [],
   "source": [
    "import segno\n",
    "\n",
    "price_tag = segno.make(\"Hello World\")\n",
    "price_tag.save(\"hello-world.png\", border = 5, dark='darkblue',data_dark='steelblue', scale=10)"
   ]
  },
  {
   "cell_type": "code",
   "execution_count": null,
   "id": "5ea61211-c0c8-438e-81f1-2e95d49fc227",
   "metadata": {},
   "outputs": [],
   "source": [
    "video = segno.make('https://www.youtube.com/channel/UCNhFxpk6hGt5uMCKXq0Jl8A')\n",
    "video.save('Video.png', dark=\"yellow\", light=\"#323524\", scale=5)"
   ]
  },
  {
   "cell_type": "code",
   "execution_count": null,
   "id": "858f9cc6-4b86-4620-a93c-8f74f04efec3",
   "metadata": {},
   "outputs": [],
   "source": [
    "#for a wifi config\n",
    "qrcode = helpers.make_wifi(ssid='MyWifi', password='1234567890', security='WPA')\n",
    "qrcode.designator\n",
    "'3-M'\n",
    "qrcode.save('wifi-access.png', scale=10)"
   ]
  },
  {
   "cell_type": "code",
   "execution_count": null,
   "id": "f0788d18-4106-44df-9f4b-2b3388dacb4a",
   "metadata": {},
   "outputs": [],
   "source": [
    "#contact details qr code\n",
    "from segno import helpers\n",
    "qrcode = helpers.make_mecard(name='Shittu Olumide', email='me@example.com', phone='+123456789')\n",
    "qrcode.designator\n",
    "'3-L'\n",
    "# Some params accept multiple values, like email, phone, url\n",
    "qrcode = helpers.make_mecard(name='Shittu Olumide', \n",
    "                             email=('me@example.com', 'email@example.com'),\n",
    "                             url=['http://www.example.com', 'https://example.come/~olu'])\n",
    "qrcode.save('mycontact.png', scale=5)"
   ]
  },
  {
   "cell_type": "code",
   "execution_count": null,
   "id": "bc18b2cb",
   "metadata": {},
   "outputs": [],
   "source": []
  },
  {
   "cell_type": "code",
   "execution_count": null,
   "id": "5f51faed",
   "metadata": {},
   "outputs": [],
   "source": []
  },
  {
   "cell_type": "code",
   "execution_count": null,
   "id": "63315d85",
   "metadata": {},
   "outputs": [],
   "source": []
  },
  {
   "cell_type": "code",
   "execution_count": null,
   "id": "f3940414-ac35-4f37-b1b3-2920903085e4",
   "metadata": {},
   "outputs": [],
   "source": [
    "!pip install qrcode\n",
    "!pip install Pillow"
   ]
  },
  {
   "cell_type": "code",
   "execution_count": null,
   "id": "aae14072-f218-43d6-b691-b39ad9fef1ab",
   "metadata": {},
   "outputs": [],
   "source": [
    "import qrcode\n",
    " \n",
    "# Data to encode\n",
    "data = \"ScratchMonkeys\"\n",
    " \n",
    "# Creating an instance of QRCode class\n",
    "qr = qrcode.QRCode(version = 1,\n",
    "                   box_size = 10,\n",
    "                   border = 5)\n",
    " \n",
    "# Adding data to the instance 'qr'\n",
    "qr.add_data(data)\n",
    " \n",
    "qr.make(fit = True)\n",
    "img = qr.make_image(fill_color = 'darkgrey',\n",
    "                    back_color = 'white')\n",
    " \n",
    "img.save('SM.png')"
   ]
  },
  {
   "cell_type": "code",
   "execution_count": null,
   "id": "b43eb9e9",
   "metadata": {},
   "outputs": [],
   "source": []
  },
  {
   "cell_type": "code",
   "execution_count": 24,
   "id": "8bd5e22b",
   "metadata": {},
   "outputs": [
    {
     "name": "stdout",
     "output_type": "stream",
     "text": [
      "Requirement already satisfied: qrcode[pil] in /usr/local/lib/python3.10/site-packages (7.5.dev0)\n",
      "Requirement already satisfied: pypng in /usr/local/lib/python3.10/site-packages (from qrcode[pil]) (0.20220715.0)\n",
      "Requirement already satisfied: typing-extensions in /usr/local/lib/python3.10/site-packages (from qrcode[pil]) (4.4.0)\n",
      "Requirement already satisfied: pillow>=9.1.0 in /usr/local/lib/python3.10/site-packages (from qrcode[pil]) (9.4.0)\n"
     ]
    }
   ],
   "source": [
    "!pip install qrcode\"[pil]\""
   ]
  },
  {
   "cell_type": "code",
   "execution_count": 15,
   "id": "574e1235",
   "metadata": {},
   "outputs": [
    {
     "name": "stdout",
     "output_type": "stream",
     "text": [
      "Requirement already satisfied: pillow in /usr/local/lib/python3.10/site-packages (9.4.0)\n",
      "Requirement already satisfied: qrcode[pil] in /usr/local/lib/python3.10/site-packages (7.5.dev0)\n",
      "Requirement already satisfied: pypng in /usr/local/lib/python3.10/site-packages (from qrcode[pil]) (0.20220715.0)\n",
      "Requirement already satisfied: typing-extensions in /usr/local/lib/python3.10/site-packages (from qrcode[pil]) (4.4.0)\n",
      "Requirement already satisfied: pillow>=9.1.0 in /usr/local/lib/python3.10/site-packages (from qrcode[pil]) (9.4.0)\n",
      "Requirement already satisfied: qrcode-xcolor in /usr/local/lib/python3.10/site-packages (0.1.1)\n",
      "Requirement already satisfied: qrcode[pil] in /usr/local/lib/python3.10/site-packages (from qrcode-xcolor) (7.5.dev0)\n",
      "Requirement already satisfied: typing-extensions in /usr/local/lib/python3.10/site-packages (from qrcode[pil]->qrcode-xcolor) (4.4.0)\n",
      "Requirement already satisfied: pypng in /usr/local/lib/python3.10/site-packages (from qrcode[pil]->qrcode-xcolor) (0.20220715.0)\n",
      "Requirement already satisfied: pillow>=9.1.0 in /usr/local/lib/python3.10/site-packages (from qrcode[pil]->qrcode-xcolor) (9.4.0)\n",
      "Collecting git+https://github.com/lincolnloop/python-qrcode.git\n",
      "  Cloning https://github.com/lincolnloop/python-qrcode.git to /private/var/folders/jt/qpx02c196772_ytczgpv4llh0000gp/T/pip-req-build-ga6tb1q8\n",
      "  Running command git clone --filter=blob:none --quiet https://github.com/lincolnloop/python-qrcode.git /private/var/folders/jt/qpx02c196772_ytczgpv4llh0000gp/T/pip-req-build-ga6tb1q8\n",
      "  Resolved https://github.com/lincolnloop/python-qrcode.git to commit b80fea6ee7e75f3024b9ed7adf891a143e0b14e3\n",
      "  Installing build dependencies ... \u001b[?25ldone\n",
      "\u001b[?25h  Getting requirements to build wheel ... \u001b[?25ldone\n",
      "\u001b[?25h  Installing backend dependencies ... \u001b[?25ldone\n",
      "\u001b[?25h  Preparing metadata (pyproject.toml) ... \u001b[?25ldone\n",
      "\u001b[?25hRequirement already satisfied: pypng in /usr/local/lib/python3.10/site-packages (from qrcode==7.5.dev0) (0.20220715.0)\n",
      "Requirement already satisfied: typing-extensions in /usr/local/lib/python3.10/site-packages (from qrcode==7.5.dev0) (4.4.0)\n",
      "Requirement already satisfied: qrcode in /usr/local/lib/python3.10/site-packages (7.5.dev0)\n",
      "Requirement already satisfied: pypng in /usr/local/lib/python3.10/site-packages (from qrcode) (0.20220715.0)\n",
      "Requirement already satisfied: typing-extensions in /usr/local/lib/python3.10/site-packages (from qrcode) (4.4.0)\n",
      "\u001b[31mERROR: Invalid requirement: '[pil]'\u001b[0m\u001b[31m\n",
      "\u001b[0m"
     ]
    }
   ],
   "source": [
    "!pip install pillow\n",
    "!pip install \"qrcode[pil]\"\n",
    "!pip install qrcode-xcolor\n",
    "!pip install git+https://github.com/lincolnloop/python-qrcode.git\n",
    "!pip install qrcode"
   ]
  },
  {
   "cell_type": "code",
   "execution_count": 7,
   "id": "907b0ce1",
   "metadata": {},
   "outputs": [
    {
     "name": "stdin",
     "output_type": "stream",
     "text": [
      "Enter the URL you want to encode into QR code:  https://github.com/pepeette\n"
     ]
    }
   ],
   "source": [
    "import qrcode\n",
    "from qrcode.image.styles.moduledrawers import RoundedModuleDrawer\n",
    "from qrcode.image.styles.moduledrawers import CircleModuleDrawer\n",
    "from  qrcode.image.styles.colormasks import SolidFillColorMask\n",
    "from PIL import Image, ImageDraw\n",
    "from qrcode.image.pil import PilImage\n",
    "from qrcode.image.styledpil import StyledPilImage\n",
    "from qrcode.image.styles.moduledrawers.pil import RoundedModuleDrawer\n",
    "from qrcode.image.styles.colormasks import RadialGradiantColorMask\n",
    "\n",
    "\n",
    "url = input(\"Enter the URL you want to encode into QR code: \")\n",
    "logo = 'tis.png'\n",
    "\n",
    "qr = qrcode.QRCode(error_correction=qrcode.constants.ERROR_CORRECT_H,box_size=10,\n",
    "    border=4)\n",
    "qr.add_data(url)\n",
    "\n",
    "\n",
    "qr_eyes_img = qr.make_image(image_factory=StyledPilImage,\n",
    "                            eye_drawer=RoundedModuleDrawer(radius_ratio=1.2),\n",
    "                            color_mask=SolidFillColorMask(back_color=(255, 255, 255), front_color=(216, 170, 0)))\n",
    "\n",
    "qr_img = qr.make_image(image_factory=StyledPilImage,\n",
    "                       module_drawer=RoundedModuleDrawer(), \n",
    "                       color_mask=SolidFillColorMask(front_color=(46, 8, 5)),\n",
    "                       embeded_image_path=logo)\n",
    "\n",
    "def style_eyes(img):\n",
    "    img_size = img.size[0]\n",
    "    eye_size = 70 #default\n",
    "    quiet_zone = 40 #default\n",
    "    mask = Image.new('L', img.size, 0)\n",
    "    draw = ImageDraw.Draw(mask)\n",
    "    draw.rectangle((40, 40, 110, 110), fill=255)\n",
    "    draw.rectangle((img_size-110, 40, img_size-40, 110), fill=255)\n",
    "    draw.rectangle((40, img_size-110, 110, img_size-40), fill=255)\n",
    "    draw.rectangle((img_size-110, img_size-110, img_size-40, img_size-40), fill=255)\n",
    "    return mask\n",
    "\n",
    "mask = style_eyes(qr_img)\n",
    "final_img = Image.composite(qr_eyes_img, qr_img, mask)\n"
   ]
  },
  {
   "cell_type": "code",
   "execution_count": 32,
   "id": "4b4c94cc",
   "metadata": {},
   "outputs": [
    {
     "ename": "SyntaxError",
     "evalue": "invalid syntax (2436018307.py, line 2)",
     "output_type": "error",
     "traceback": [
      "\u001b[0;36m  Cell \u001b[0;32mIn [32], line 2\u001b[0;36m\u001b[0m\n\u001b[0;31m    for the dots\u001b[0m\n\u001b[0m            ^\u001b[0m\n\u001b[0;31mSyntaxError\u001b[0m\u001b[0;31m:\u001b[0m invalid syntax\n"
     ]
    }
   ],
   "source": [
    "# options\n",
    "# for the dots \n",
    "# image_factory=StyledPilImage, module_drawer=RoundedModuleDrawer()\n",
    "# or SquareModuleDrawer()\n",
    "# or GappedSquareModuleDrawer\n",
    "# or CircleModuleDrawer()\n",
    "# or VerticalBarsDrawer()\n",
    "# or HorizontalBarsDrawer()\n",
    "\n",
    "# for the color\n",
    "# image_factory=StyledPilImage, color_mask=RadialGradiantColorMask()\n",
    "# or SolidFillColorMask()\n",
    "# or RadialGradiantColorMask()\n",
    "# or VerticalGradiantColorMask()\n",
    "# or ImageColorMask()\n",
    "# or SquareGradiantColormask\n",
    "\n"
   ]
  },
  {
   "cell_type": "code",
   "execution_count": 9,
   "id": "2c27456e",
   "metadata": {},
   "outputs": [],
   "source": [
    "final_img.save('QR.png')"
   ]
  },
  {
   "cell_type": "code",
   "execution_count": 8,
   "id": "7fe551a3",
   "metadata": {},
   "outputs": [
    {
     "data": {
      "image/png": "[encoded data removed]",
      "text/plain": [
       "<PIL.Image.Image image mode=RGBA size=410x410>"
      ]
     },
     "execution_count": 8,
     "metadata": {},
     "output_type": "execute_result"
    }
   ],
   "source": [
    "final_img"
   ]
  },
  {
   "cell_type": "code",
   "execution_count": 30,
   "id": "b179976c",
   "metadata": {},
   "outputs": [
    {
     "name": "stdout",
     "output_type": "stream",
     "text": [
      "\u001b[31mERROR: Could not find a version that satisfies the requirement qr-code-styling (from versions: none)\u001b[0m\u001b[31m\n",
      "\u001b[0m\u001b[31mERROR: No matching distribution found for qr-code-styling\u001b[0m\u001b[31m\n",
      "\u001b[0m"
     ]
    }
   ],
   "source": [
    "!pip install qr-code-styling"
   ]
  },
  {
   "cell_type": "code",
   "execution_count": null,
   "id": "04999fbf",
   "metadata": {},
   "outputs": [],
   "source": []
  }
 ],
 "metadata": {
  "kernelspec": {
   "display_name": "Python 3 (ipykernel)",
   "language": "python",
   "name": "python3"
  },
  "language_info": {
   "codemirror_mode": {
    "name": "ipython",
    "version": 3
   },
   "file_extension": ".py",
   "mimetype": "text/x-python",
   "name": "python",
   "nbconvert_exporter": "python",
   "pygments_lexer": "ipython3",
   "version": "3.10.8"
  }
 },
 "nbformat": 4,
 "nbformat_minor": 5
}
